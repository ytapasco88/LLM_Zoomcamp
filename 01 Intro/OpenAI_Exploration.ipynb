{
 "cells": [
  {
   "cell_type": "code",
   "execution_count": 1,
   "id": "cf7e2441-3ab4-4c56-873d-a280be328337",
   "metadata": {},
   "outputs": [
    {
     "data": {
      "text/plain": [
       "['config.ini']"
      ]
     },
     "execution_count": 1,
     "metadata": {},
     "output_type": "execute_result"
    }
   ],
   "source": [
    "import openai\n",
    "from openai import OpenAI\n",
    "import os \n",
    "import configparser\n",
    "config = configparser.ConfigParser()\n",
    "config.read(\"config.ini\")\n"
   ]
  },
  {
   "cell_type": "code",
   "execution_count": 2,
   "id": "4bb554c0-596c-464f-9773-d7b655c38eac",
   "metadata": {},
   "outputs": [],
   "source": [
    "# credentials to API\n",
    "OPENAI_API_KEY = config[\"openai\"][\"OPENAI_API_KEY\"]"
   ]
  },
  {
   "cell_type": "code",
   "execution_count": 5,
   "id": "5ec7e84d-e231-4a36-8178-44fe4bc6912d",
   "metadata": {},
   "outputs": [],
   "source": [
    "client = OpenAI(api_key=OPENAI_API_KEY)"
   ]
  },
  {
   "cell_type": "code",
   "execution_count": 6,
   "id": "d1031c6f-b2e9-412a-b37e-dd98d6681eaf",
   "metadata": {},
   "outputs": [],
   "source": [
    "response = client.chat.completions.create(\n",
    "    model=\"gpt-4o-mini\",\n",
    "    messages=[{\"role\": \"user\", \"content\": \"What do you thing about studying MLOPs or LLMOps?\"}]\n",
    ")\n",
    "    "
   ]
  },
  {
   "cell_type": "code",
   "execution_count": 7,
   "id": "c792bd93-f0d5-4238-97a7-5f3e77511ad3",
   "metadata": {},
   "outputs": [
    {
     "data": {
      "text/plain": [
       "\"Studying MLOps (Machine Learning Operations) and LLMOps (Large Language Model Operations) can be highly beneficial and timely, especially given the rapid advancements in machine learning and AI technologies. Here's why these areas are worth exploring:\\n\\n### Importance of MLOps:\\n\\n1. **Bridging the Gap**: MLOps focuses on integrating machine learning systems into the broader software development and operations processes, helping teams deliver high-quality machine learning models faster and more efficiently.\\n\\n2. **Productionization**: Many models perform well in research or testing, but deploying them in production can be challenging. MLOps provides methodologies and tools to streamline this process, ensuring models are scalable, reliable, and maintainable.\\n\\n3. **Collaboration**: It promotes better collaboration among data scientists, engineers, and operational teams, which is crucial in managing the end-to-end lifecycle of machine learning models.\\n\\n4. **Best Practices**: MLOps encompasses best practices for version control, reproducibility, monitoring, and model governance, which are essential for maintaining the integrity and performance of ML systems.\\n\\n### Relevance of LLMOps:\\n\\n1. **Rapid Growth in LLMs**: With the rise of large language models like GPT-3, BERT, and others, there is an increasing need to manage their deployment, scaling, and fine-tuning effectively. LLMOps focuses on these specific challenges.\\n\\n2. **Resource Management**: LLMs often require significant computational resources, making efficient resource management and cost optimization critical components of their operation.\\n\\n3. **Ethics and Safety**: LLMOps also involves addressing ethical considerations, biases, and safety issues associated with deploying language models in real-world applications.\\n\\n4. **Innovative Applications**: Understanding LLMOps can open up opportunities to work on innovative applications in various industries, such as customer support, content creation, and data analysis.\\n\\n### Conclusion:\\n\\nStudying MLOps and LLMOps equips you with the skills to effectively manage machine learning models throughout their lifecycle, addressing technical, operational, and ethical challenges. This expertise is increasingly in demand across industries, making it a valuable addition to your skill set if you're interested in pursuing a career in AI and machine learning. Additionally, as the field evolves, staying abreast of advancements in these areas can open doors to exciting opportunities.\""
      ]
     },
     "execution_count": 7,
     "metadata": {},
     "output_type": "execute_result"
    }
   ],
   "source": [
    "response.choices[0].message.content"
   ]
  },
  {
   "cell_type": "code",
   "execution_count": null,
   "id": "61732670-c912-4fff-8e52-33f00556e263",
   "metadata": {},
   "outputs": [],
   "source": []
  }
 ],
 "metadata": {
  "kernelspec": {
   "display_name": "Python 3 (ipykernel)",
   "language": "python",
   "name": "python3"
  },
  "language_info": {
   "codemirror_mode": {
    "name": "ipython",
    "version": 3
   },
   "file_extension": ".py",
   "mimetype": "text/x-python",
   "name": "python",
   "nbconvert_exporter": "python",
   "pygments_lexer": "ipython3",
   "version": "3.10.13"
  }
 },
 "nbformat": 4,
 "nbformat_minor": 5
}
